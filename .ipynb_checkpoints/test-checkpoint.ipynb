{
 "cells": [
  {
   "cell_type": "code",
   "execution_count": 12,
   "metadata": {},
   "outputs": [],
   "source": [
    "import joblib\n",
    "import pandas as pd\n",
    "from sklearn.feature_extraction.text import TfidfVectorizer\n",
    "from bs4 import BeautifulSoup\n",
    "import unicodedata\n",
    "from spacy.lang.en.stop_words import STOP_WORDS\n",
    "import re\n",
    "import contractions\n",
    "import spacy"
   ]
  },
  {
   "cell_type": "code",
   "execution_count": 45,
   "metadata": {},
   "outputs": [],
   "source": [
    "text = 'india-pakistan peace boosts trade calmer relations between india and pakistan are paying economic dividends  with new figures showing bilateral trade up threefold in the summer.  the value of trade in april-july rose to $186.3m (£97m) from $64.4m in the same period in 2003  the indian government said. nonethless  the figures represent less than 1% of india s overall exports. but business is expected to be boosted further from 2006 when the south asian free trade area agreement starts. both countries eased travel and other restrictions as part of the peace process aimed at ending nearly six decades of hostilities.  sugar  plastics  pharmaceutical products and tea are among the major exports from india to its neighbour  while firms in pakistani have been selling fabrics  fruit and spices.  if the positive trend continues  two-way trade could well cross half a billion dollars this fiscal year   india s federal commerce minister kamal nath said. according to official data  the value of india s overall exports in the current fiscal year is expected to reach more than $60bn  while in pakistan s case it is set to hit more than $12bn. meanwhile  the indian government said the prospects for the country s booming economy remained  very bright  despite a  temporary aberration  this year. its mid-year economic review forecasts growth of 6-6.5% in 2004  compared with 8.2% in 2003. higher oil prices  the level of tax collections  and an unfavourable monsoon season affecting the farm sector had hurt the economy in april-september  it said.'"
   ]
  },
  {
   "cell_type": "code",
   "execution_count": 58,
   "metadata": {},
   "outputs": [],
   "source": [
    "text = 'india-pakistan peace boosts trade calmer relations between india and pakistan are paying economic dividends  with new figures showing bilateral trade up threefold in the summer.  the value of trade in april-july rose to $186.3m (£97m) from $64.4m in the same period in 2003  the indian government said. nonethless  the figures represent less than 1% of india s overall exports. but business is expected to be boosted further from 2006 when the south asian free trade area agreement starts. both countries eased travel and other restrictions as part of the peace process aimed at ending nearly six decades of hostilities.  sugar  plastics  pharmaceutical products and tea are among the major exports from india to its neighbour  while firms in pakistani have been selling fabrics  fruit and spices.  if the positive trend continues  two-way trade could well cross half a billion dollars this fiscal year   india s federal commerce minister kamal nath said. according to official data  the value of india s overall exports in the current fiscal year is expected to reach more than $60bn  while in pakistan s case it is set to hit more than $12bn. meanwhile  the indian government said the prospects for the country s booming economy remained  very bright  despite a  temporary aberration  this year. its mid-year economic review forecasts growth of 6-6.5% in 2004  compared with 8.2% in 2003. higher oil prices  the level of tax collections  and an unfavourable monsoon season affecting the farm sector had hurt the economy in april-september  it said.'\n",
    "text = text.lower()\n",
    "text = contractions.fix(text)\n",
    "text = re.sub('[^A-Z a-z 0-9-]+', '', text)\n",
    "text = re.sub('[^A-Z a-z 0-9-]+', '', text)\n",
    "text = unicodedata.normalize('NFKD', text).encode('ascii', 'ignore').decode('utf-8', 'ignore')\n",
    "text = ' '.join([t for t in text.split() if t not in STOP_WORDS])\n",
    "nlp = spacy.load('en_core_web_sm')\n",
    "\n",
    "def make_to_base(x):\n",
    "    x_list = []\n",
    "    doc = nlp(x)\n",
    "    \n",
    "    for token in doc:\n",
    "        lemma = str(token.lemma_)\n",
    "        if lemma == '-PRON-' or lemma == 'be':\n",
    "            lemma = token.text\n",
    "        x_list.append(lemma)\n",
    "    return ' '.join(x_list)\n",
    "\n",
    "text = make_to_base(text)"
   ]
  },
  {
   "cell_type": "code",
   "execution_count": 51,
   "metadata": {},
   "outputs": [
    {
     "data": {
      "text/plain": [
       "'india - pakistan peace boosts trade calmer relation india pakistan pay economic dividend new figure show bilateral trade threefold summer value trade april - july rise 1863 m 97 m 644 m period 2003 indian government say nonethless figure represent 1 india s overall export business expect boost 2006 south asian free trade area agreement start country ease travel restriction peace process aim end nearly decade hostility sugar plastic pharmaceutical product tea major export india neighbour firms pakistani selling fabric fruit spice positive trend continue two - way trade cross half billion dollar fiscal year india s federal commerce minister kamal nath say accord official datum value india s overall export current fiscal year expect reach 60bn pakistan s case set hit 12bn indian government say prospect country s boom economy remain bright despite temporary aberration year mid - year economic review forecast growth 6 - 65 2004 compare 82 2003 high oil price level tax collection unfavourable monsoon season affect farm sector hurt economy april - september say'"
      ]
     },
     "execution_count": 51,
     "metadata": {},
     "output_type": "execute_result"
    }
   ],
   "source": [
    "text"
   ]
  },
  {
   "cell_type": "code",
   "execution_count": 52,
   "metadata": {},
   "outputs": [],
   "source": [
    "tfidf = joblib.load('news classifier/vectors/tfidf')\n",
    "dfr_idf = tfidf.transform([text])"
   ]
  },
  {
   "cell_type": "code",
   "execution_count": 54,
   "metadata": {},
   "outputs": [
    {
     "data": {
      "text/plain": [
       "<1x24214 sparse matrix of type '<class 'numpy.float64'>'\n",
       "\twith 121 stored elements in Compressed Sparse Row format>"
      ]
     },
     "execution_count": 54,
     "metadata": {},
     "output_type": "execute_result"
    }
   ],
   "source": [
    "dfr_idf"
   ]
  },
  {
   "cell_type": "code",
   "execution_count": 55,
   "metadata": {},
   "outputs": [],
   "source": [
    "X = pd.DataFrame(dfr_idf.toarray())"
   ]
  },
  {
   "cell_type": "code",
   "execution_count": 56,
   "metadata": {},
   "outputs": [],
   "source": [
    "classifier = joblib.load('news classifier/models/TFIDF/RFC.h5')"
   ]
  },
  {
   "cell_type": "code",
   "execution_count": 57,
   "metadata": {},
   "outputs": [
    {
     "data": {
      "text/plain": [
       "array([3])"
      ]
     },
     "execution_count": 57,
     "metadata": {},
     "output_type": "execute_result"
    }
   ],
   "source": [
    "classifier.predict(X)"
   ]
  }
 ],
 "metadata": {
  "kernelspec": {
   "display_name": "Python 3",
   "language": "python",
   "name": "python3"
  },
  "language_info": {
   "codemirror_mode": {
    "name": "ipython",
    "version": 3
   },
   "file_extension": ".py",
   "mimetype": "text/x-python",
   "name": "python",
   "nbconvert_exporter": "python",
   "pygments_lexer": "ipython3",
   "version": "3.8.5"
  }
 },
 "nbformat": 4,
 "nbformat_minor": 4
}
